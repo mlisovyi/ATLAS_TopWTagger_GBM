{
 "cells": [
  {
   "cell_type": "code",
   "execution_count": 1,
   "metadata": {},
   "outputs": [],
   "source": [
    "import numpy as np\n",
    "import pandas as pd \n",
    "import matplotlib.pyplot as plt\n",
    "from scipy.stats import skew\n",
    "\n",
    "%matplotlib inline"
   ]
  },
  {
   "cell_type": "code",
   "execution_count": 2,
   "metadata": {
    "scrolled": true
   },
   "outputs": [],
   "source": [
    "top_train = pd.HDFStore('data/PreparedSamples_split_85_15_training_training_top_tagging_fully_contained_top_contained.h5', \n",
    "                        mode='r')\n",
    "top_valid = pd.HDFStore('data/PreparedSamples_split_85_15_validation_training_top_tagging_fully_contained_top_contained.h5', \n",
    "                        mode='r')"
   ]
  },
  {
   "cell_type": "markdown",
   "metadata": {},
   "source": [
    "The list of variables in the sample:"
   ]
  },
  {
   "cell_type": "code",
   "execution_count": 3,
   "metadata": {},
   "outputs": [
    {
     "name": "stdout",
     "output_type": "stream",
     "text": [
      "<class 'pandas.core.frame.DataFrame'>\n",
      "Int64Index: 303135 entries, 0 to 303134\n",
      "Data columns (total 67 columns):\n",
      "EventInfo_mcEventNumber                     303135 non-null int32\n",
      "EventInfo_ntruthJets                        303135 non-null int32\n",
      "EventInfo_nfatjets                          303135 non-null int32\n",
      "EventInfo_NPV                               303135 non-null int32\n",
      "EventInfo_averageInteractionsPerCrossing    303135 non-null float32\n",
      "fjet_truthJet_pt                            303135 non-null float32\n",
      "fjet_truthJet_eta                           303135 non-null float32\n",
      "fjet_truthJet_m                             303135 non-null float32\n",
      "fjet_truthJet_nthLeading                    303135 non-null int32\n",
      "fjet_truth_dRmatched_particle_flavor        303135 non-null float32\n",
      "fjet_truth_dRmatched_particle_dR            303135 non-null float32\n",
      "fjet_dRmatched_topBChild_dR                 303135 non-null float32\n",
      "fjet_dRmatched_WZChild1_dR                  303135 non-null float32\n",
      "fjet_dRmatched_WZChild2_dR                  303135 non-null float32\n",
      "fjet_fatjets_dRmatched_reco_truth           303135 non-null int32\n",
      "fjet_dRmatched_maxEParton_flavor            303135 non-null int32\n",
      "fjet_dRmatched_topBChild                    303135 non-null int32\n",
      "fjet_E                                      303135 non-null float32\n",
      "fjet_pt                                     303135 non-null float32\n",
      "fjet_m                                      303135 non-null float32\n",
      "fjet_phi                                    303135 non-null float32\n",
      "fjet_eta                                    303135 non-null float32\n",
      "fjet_nthLeading                             303135 non-null int32\n",
      "fjet_Tau1_wta                               303135 non-null float32\n",
      "fjet_Tau2_wta                               303135 non-null float32\n",
      "fjet_Tau3_wta                               303135 non-null float32\n",
      "fjet_Tau21_wta                              303135 non-null float32\n",
      "fjet_Tau32_wta                              303135 non-null float32\n",
      "fjet_ECF1                                   303135 non-null float32\n",
      "fjet_ECF2                                   303135 non-null float32\n",
      "fjet_ECF3                                   303135 non-null float32\n",
      "fjet_C2                                     303135 non-null float32\n",
      "fjet_D2                                     303135 non-null float32\n",
      "fjet_Angularity                             303135 non-null float32\n",
      "fjet_Aplanarity                             303135 non-null float32\n",
      "fjet_Dip12                                  303135 non-null float32\n",
      "fjet_FoxWolfram20                           303135 non-null float32\n",
      "fjet_KtDR                                   303135 non-null float32\n",
      "fjet_PlanarFlow                             303135 non-null float32\n",
      "fjet_Sphericity                             303135 non-null float32\n",
      "fjet_Split12                                303135 non-null float32\n",
      "fjet_Split23                                303135 non-null float32\n",
      "fjet_ThrustMaj                              303135 non-null float32\n",
      "fjet_ThrustMin                              303135 non-null float32\n",
      "fjet_ZCut12                                 303135 non-null float32\n",
      "fjet_Qw                                     303135 non-null float32\n",
      "fjet_Mu12                                   303135 non-null float32\n",
      "fjet_TrackAssistedMassCalibrated            303135 non-null float32\n",
      "fjet_CaloTACombinedMassUncorrelated         303135 non-null float32\n",
      "fjet_numConstituents                        303135 non-null int32\n",
      "fjet_NTrimSubjets                           303135 non-null int32\n",
      "fjet_JetpTCorrByCombinedMass                303135 non-null float32\n",
      "fjet_pTResponseCombMassCorrpT               303135 non-null float32\n",
      "fjet_e2                                     303135 non-null float32\n",
      "fjet_e3                                     303135 non-null float32\n",
      "fjet_Ntrk500                                303135 non-null int32\n",
      "fjet_Ntrk1000                               303135 non-null int32\n",
      "fjet_SDt_Dcut1                              303135 non-null float32\n",
      "fjet_SDt_Dcut2                              303135 non-null float32\n",
      "fjet_testing_weight_pt                      303135 non-null float32\n",
      "fjet_testing_weight_pt_dR                   303135 non-null float32\n",
      "top                                         303135 non-null int32\n",
      "W                                           303135 non-null int32\n",
      "fjet_training_weight_pt_top                 303135 non-null float32\n",
      "fjet_training_weight_pt_W                   303135 non-null float32\n",
      "fjet_training_weight_pt_top_dR              303135 non-null float32\n",
      "fjet_training_weight_pt_W_dR                303135 non-null float32\n",
      "dtypes: float32(52), int32(15)\n",
      "memory usage: 79.8 MB\n"
     ]
    }
   ],
   "source": [
    "top_valid['df'].info()"
   ]
  },
  {
   "cell_type": "markdown",
   "metadata": {},
   "source": [
    "## Select relevant rows and columns for training\n",
    "Define a function to prepare dataset for training"
   ]
  },
  {
   "cell_type": "code",
   "execution_count": 4,
   "metadata": {},
   "outputs": [],
   "source": [
    "def selectEvents(df, col, part='top'):\n",
    "    sel_col_name = 'fjet_training_weight_pt_{}'.format(part)\n",
    "    sel_col = df[sel_col_name] > 0\n",
    "    return df[col][sel_col]\n",
    "\n",
    "top_var_list = ['fjet_Tau32_wta', 'fjet_m', 'fjet_D2', 'fjet_Split23', 'fjet_Qw', \n",
    "                'fjet_Split12', 'fjet_Tau21_wta', 'fjet_e3', 'fjet_Tau2_wta', 'fjet_pt']\n",
    "\n",
    "def getEvents(df, part='top', col_list=None, weight_name='fjet_training_weight_pt', forced_y=None, skip_weight_suff=False):\n",
    "    # weights column to read out\n",
    "    if not skip_weight_suff:\n",
    "        weights_name = '{}_{}'.format(weight_name, part)\n",
    "    else:\n",
    "        weights_name = weight_name\n",
    "    \n",
    "    # select features\n",
    "    if col_list:\n",
    "        X_cols = col_list\n",
    "    else:\n",
    "        X_cols = df.columns.values\n",
    "    X_selected = selectEvents(df, X_cols, part=part)\n",
    "    X_selected.drop([weights_name, part], axis=1, errors='ignore', inplace=True)\n",
    "    # select y\n",
    "    if forced_y is None:\n",
    "        y_selected = selectEvents(df, col=part, part=part)\n",
    "    else:\n",
    "        y_selected = pd.Series(np.ones(shape=X_selected.shape[0]), index=X_selected.index) * forced_y\n",
    "    # select weights\n",
    "    weights = selectEvents(df, weights_name, part)\n",
    "    \n",
    "    return (X_selected, y_selected, weights)"
   ]
  },
  {
   "cell_type": "markdown",
   "metadata": {},
   "source": [
    "Prepare training and validation datasets for training"
   ]
  },
  {
   "cell_type": "code",
   "execution_count": 5,
   "metadata": {},
   "outputs": [],
   "source": [
    "X_val, y_val, w_val = getEvents(top_valid['df'], part='top', col_list=top_var_list)\n",
    "X_tra, y_tra, w_tra = getEvents(top_train['df'], part='top', col_list=top_var_list)"
   ]
  },
  {
   "cell_type": "code",
   "execution_count": 6,
   "metadata": {},
   "outputs": [],
   "source": [
    "truth_pt = selectEvents(top_valid['df'], part='top', col='fjet_truthJet_pt')\n",
    "w_val_test = selectEvents(top_valid['df'] , part='top', col='fjet_testing_weight_pt')"
   ]
  },
  {
   "cell_type": "code",
   "execution_count": 7,
   "metadata": {},
   "outputs": [],
   "source": [
    "top_valid.close()\n",
    "top_train.close()"
   ]
  },
  {
   "cell_type": "markdown",
   "metadata": {},
   "source": [
    "Do actual heavy-lifting by traiing a model"
   ]
  },
  {
   "cell_type": "code",
   "execution_count": 8,
   "metadata": {},
   "outputs": [],
   "source": [
    "import lightgbm as lgb"
   ]
  },
  {
   "cell_type": "code",
   "execution_count": 9,
   "metadata": {},
   "outputs": [],
   "source": [
    "clf=lgb.LGBMClassifier(n_estimators=500, max_depth=-1, random_state=314, silent=True, metric='None', n_jobs=2)"
   ]
  },
  {
   "cell_type": "markdown",
   "metadata": {},
   "source": [
    "Parametrs to be added to the `.fit()` call on the classifier in the hyper-parameter tuning. These are needed:\n",
    "   * to define weights in the training (`sample_weight`);\n",
    "   * to set up early stopping in lightgbm training (also based on ROC AUC). This avoids overtraining and allows up to keep the number of boosting iterations free to adjust to different models (different parameter choices might lead to different model flexibility)"
   ]
  },
  {
   "cell_type": "code",
   "execution_count": 10,
   "metadata": {},
   "outputs": [],
   "source": [
    "fit_params={\"early_stopping_rounds\":30, \n",
    "            \"eval_metric\" : 'auc', \n",
    "            \"eval_set\" : [(X_val,y_val)],\n",
    "            'eval_sample_weight': [w_val],\n",
    "            'eval_names': ['valid'],\n",
    "            'sample_weight': w_tra,\n",
    "            'verbose': 50}"
   ]
  },
  {
   "cell_type": "markdown",
   "metadata": {},
   "source": [
    "## Hyper-parameter optimisation (can be skipped, as the optimal parameters have already been found)\n",
    "Define the parameter set to do hyper-parameter search"
   ]
  },
  {
   "cell_type": "code",
   "execution_count": 11,
   "metadata": {},
   "outputs": [],
   "source": [
    "from scipy.stats import randint as sp_randint\n",
    "from scipy.stats import uniform as sp_uniform\n",
    "param_test ={'num_leaves': sp_randint(6, 100), \n",
    "             'min_child_weight': sp_randint(1, 500), \n",
    "             'colsample_bytree': sp_uniform(loc=0.6, scale=0.4), \n",
    "             'subsample': sp_uniform(loc=0.6, scale=0.4), \n",
    "             'reg_alpha': [0, 1e-5, 1e-3, 1e-1, 1, 5, 10],\n",
    "             'reg_lambda': [0, 1e-5, 1e-3, 1e-1, 1, 5, 10]}\n",
    "\n"
   ]
  },
  {
   "cell_type": "markdown",
   "metadata": {},
   "source": [
    "Set up model hyper-parameter optimisation by random search using 3-fold cross-validation (the number of folds can be adjusted by the `cv` parameter). Best parameter choice will be picked based on the average ROC AUC across CV folds"
   ]
  },
  {
   "cell_type": "code",
   "execution_count": 12,
   "metadata": {},
   "outputs": [],
   "source": [
    "n_HP_points_to_test = 20\n",
    "\n",
    "from sklearn.model_selection import RandomizedSearchCV\n",
    "gs = RandomizedSearchCV(estimator=clf, \n",
    "                        param_distributions=param_test, \n",
    "                        n_iter=n_HP_points_to_test,\n",
    "                        fit_params=fit_params,\n",
    "                        scoring='roc_auc',\n",
    "                        cv=3,\n",
    "                        refit=True,\n",
    "                        return_train_score=True,\n",
    "                        random_state=314,\n",
    "                        verbose=True)\n",
    "\n"
   ]
  },
  {
   "cell_type": "markdown",
   "metadata": {},
   "source": [
    "Training time of a single LighGBM model on these training data is `O(1 min)` using 2 parallel threads on a 2-core machine with 2 threads/core. Thus, the full CV loop will run for `O(3*20*1 min = 1h)`"
   ]
  },
  {
   "cell_type": "code",
   "execution_count": 13,
   "metadata": {},
   "outputs": [
    {
     "name": "stderr",
     "output_type": "stream",
     "text": [
      "/home/mlisovyi/anaconda2/envs/Titanic/lib/python3.5/site-packages/sklearn/model_selection/_search.py:584: DeprecationWarning: \"fit_params\" as a constructor argument was deprecated in version 0.19 and will be removed in version 0.21. Pass fit parameters to the \"fit\" method instead.\n",
      "  '\"fit\" method instead.', DeprecationWarning)\n"
     ]
    },
    {
     "name": "stdout",
     "output_type": "stream",
     "text": [
      "Fitting 3 folds for each of 20 candidates, totalling 60 fits\n",
      "Training until validation scores don't improve for 30 rounds.\n",
      "[50]\tvalid's auc: 0.930927\n",
      "[100]\tvalid's auc: 0.932813\n",
      "[150]\tvalid's auc: 0.933374\n",
      "[200]\tvalid's auc: 0.93365\n",
      "[250]\tvalid's auc: 0.933789\n",
      "[300]\tvalid's auc: 0.93391\n",
      "[350]\tvalid's auc: 0.933956\n",
      "Early stopping, best iteration is:\n",
      "[364]\tvalid's auc: 0.933962\n",
      "Training until validation scores don't improve for 30 rounds.\n",
      "[50]\tvalid's auc: 0.931109\n",
      "[100]\tvalid's auc: 0.932841\n",
      "[150]\tvalid's auc: 0.933384\n",
      "[200]\tvalid's auc: 0.933707\n",
      "[250]\tvalid's auc: 0.933906\n",
      "[300]\tvalid's auc: 0.93397\n",
      "Early stopping, best iteration is:\n",
      "[292]\tvalid's auc: 0.933994\n",
      "Training until validation scores don't improve for 30 rounds.\n",
      "[50]\tvalid's auc: 0.931005\n",
      "[100]\tvalid's auc: 0.932751\n",
      "[150]\tvalid's auc: 0.933328\n",
      "[200]\tvalid's auc: 0.933635\n",
      "[250]\tvalid's auc: 0.933767\n",
      "[300]\tvalid's auc: 0.933851\n",
      "[350]\tvalid's auc: 0.933877\n",
      "[400]\tvalid's auc: 0.933911\n",
      "[450]\tvalid's auc: 0.933903\n",
      "Early stopping, best iteration is:\n",
      "[422]\tvalid's auc: 0.933931\n",
      "Training until validation scores don't improve for 30 rounds.\n",
      "[50]\tvalid's auc: 0.931733\n",
      "[100]\tvalid's auc: 0.933251\n",
      "[150]\tvalid's auc: 0.933715\n",
      "[200]\tvalid's auc: 0.933998\n",
      "[250]\tvalid's auc: 0.934141\n",
      "[300]\tvalid's auc: 0.934182\n",
      "[350]\tvalid's auc: 0.934197\n",
      "Early stopping, best iteration is:\n",
      "[361]\tvalid's auc: 0.934217\n",
      "Training until validation scores don't improve for 30 rounds.\n",
      "[50]\tvalid's auc: 0.931742\n",
      "[100]\tvalid's auc: 0.933325\n",
      "[150]\tvalid's auc: 0.933763\n",
      "[200]\tvalid's auc: 0.93393\n",
      "[250]\tvalid's auc: 0.933987\n",
      "[300]\tvalid's auc: 0.934069\n",
      "Early stopping, best iteration is:\n",
      "[280]\tvalid's auc: 0.934082\n",
      "Training until validation scores don't improve for 30 rounds.\n",
      "[50]\tvalid's auc: 0.931807\n",
      "[100]\tvalid's auc: 0.933293\n",
      "[150]\tvalid's auc: 0.933813\n",
      "[200]\tvalid's auc: 0.933959\n",
      "[250]\tvalid's auc: 0.934083\n",
      "[300]\tvalid's auc: 0.934134\n",
      "[350]\tvalid's auc: 0.934164\n",
      "Early stopping, best iteration is:\n",
      "[329]\tvalid's auc: 0.934187\n",
      "Training until validation scores don't improve for 30 rounds.\n",
      "[50]\tvalid's auc: 0.929952\n",
      "[100]\tvalid's auc: 0.931864\n",
      "[150]\tvalid's auc: 0.93247\n",
      "[200]\tvalid's auc: 0.932734\n",
      "[250]\tvalid's auc: 0.932938\n",
      "[300]\tvalid's auc: 0.933028\n",
      "[350]\tvalid's auc: 0.933067\n",
      "[400]\tvalid's auc: 0.933132\n",
      "[450]\tvalid's auc: 0.933187\n",
      "Early stopping, best iteration is:\n",
      "[435]\tvalid's auc: 0.933192\n",
      "Training until validation scores don't improve for 30 rounds.\n",
      "[50]\tvalid's auc: 0.929965\n",
      "[100]\tvalid's auc: 0.931765\n",
      "[150]\tvalid's auc: 0.932335\n",
      "[200]\tvalid's auc: 0.932593\n",
      "[250]\tvalid's auc: 0.932737\n",
      "[300]\tvalid's auc: 0.932862\n",
      "[350]\tvalid's auc: 0.932907\n",
      "Early stopping, best iteration is:\n",
      "[346]\tvalid's auc: 0.932928\n",
      "Training until validation scores don't improve for 30 rounds.\n",
      "[50]\tvalid's auc: 0.929861\n",
      "[100]\tvalid's auc: 0.931658\n",
      "[150]\tvalid's auc: 0.93228\n",
      "[200]\tvalid's auc: 0.932642\n",
      "[250]\tvalid's auc: 0.932812\n",
      "[300]\tvalid's auc: 0.932887\n",
      "[350]\tvalid's auc: 0.932919\n",
      "Early stopping, best iteration is:\n",
      "[345]\tvalid's auc: 0.932927\n",
      "Training until validation scores don't improve for 30 rounds.\n",
      "[50]\tvalid's auc: 0.927025\n",
      "[100]\tvalid's auc: 0.929785\n",
      "[150]\tvalid's auc: 0.930929\n",
      "[200]\tvalid's auc: 0.931578\n",
      "[250]\tvalid's auc: 0.931998\n",
      "[300]\tvalid's auc: 0.932322\n",
      "[350]\tvalid's auc: 0.932577\n",
      "[400]\tvalid's auc: 0.932795\n",
      "[450]\tvalid's auc: 0.932917\n",
      "[500]\tvalid's auc: 0.933058\n",
      "Did not meet early stopping. Best iteration is:\n",
      "[500]\tvalid's auc: 0.933058\n",
      "Training until validation scores don't improve for 30 rounds.\n",
      "[50]\tvalid's auc: 0.927056\n",
      "[100]\tvalid's auc: 0.929896\n",
      "[150]\tvalid's auc: 0.930999\n",
      "[200]\tvalid's auc: 0.931653\n",
      "[250]\tvalid's auc: 0.932144\n",
      "[300]\tvalid's auc: 0.932495\n",
      "[350]\tvalid's auc: 0.932726\n",
      "[400]\tvalid's auc: 0.93286\n",
      "[450]\tvalid's auc: 0.932929\n",
      "[500]\tvalid's auc: 0.933051\n",
      "Did not meet early stopping. Best iteration is:\n",
      "[500]\tvalid's auc: 0.933051\n",
      "Training until validation scores don't improve for 30 rounds.\n",
      "[50]\tvalid's auc: 0.926891\n",
      "[100]\tvalid's auc: 0.9297\n",
      "[150]\tvalid's auc: 0.93087\n",
      "[200]\tvalid's auc: 0.93152\n",
      "[250]\tvalid's auc: 0.931892\n",
      "[300]\tvalid's auc: 0.932274\n",
      "[350]\tvalid's auc: 0.932494\n",
      "[400]\tvalid's auc: 0.932643\n",
      "[450]\tvalid's auc: 0.932754\n",
      "[500]\tvalid's auc: 0.932849\n",
      "Did not meet early stopping. Best iteration is:\n",
      "[497]\tvalid's auc: 0.932851\n",
      "Training until validation scores don't improve for 30 rounds.\n",
      "[50]\tvalid's auc: 0.930236\n",
      "[100]\tvalid's auc: 0.932277\n",
      "[150]\tvalid's auc: 0.933008\n",
      "[200]\tvalid's auc: 0.933272\n",
      "[250]\tvalid's auc: 0.933521\n",
      "[300]\tvalid's auc: 0.933686\n",
      "[350]\tvalid's auc: 0.933796\n",
      "[400]\tvalid's auc: 0.933865\n",
      "[450]\tvalid's auc: 0.933855\n",
      "Early stopping, best iteration is:\n",
      "[427]\tvalid's auc: 0.933872\n",
      "Training until validation scores don't improve for 30 rounds.\n",
      "[50]\tvalid's auc: 0.930215\n",
      "[100]\tvalid's auc: 0.932151\n",
      "[150]\tvalid's auc: 0.932923\n",
      "[200]\tvalid's auc: 0.933341\n",
      "[250]\tvalid's auc: 0.933539\n",
      "[300]\tvalid's auc: 0.933647\n",
      "[350]\tvalid's auc: 0.933697\n",
      "[400]\tvalid's auc: 0.933769\n",
      "Early stopping, best iteration is:\n",
      "[404]\tvalid's auc: 0.933775\n",
      "Training until validation scores don't improve for 30 rounds.\n",
      "[50]\tvalid's auc: 0.93019\n",
      "[100]\tvalid's auc: 0.932165\n",
      "[150]\tvalid's auc: 0.932901\n",
      "[200]\tvalid's auc: 0.933255\n",
      "[250]\tvalid's auc: 0.933455\n",
      "[300]\tvalid's auc: 0.933702\n",
      "[350]\tvalid's auc: 0.93381\n",
      "[400]\tvalid's auc: 0.933852\n",
      "[450]\tvalid's auc: 0.933884\n",
      "[500]\tvalid's auc: 0.933909\n",
      "Did not meet early stopping. Best iteration is:\n",
      "[487]\tvalid's auc: 0.93392\n",
      "Training until validation scores don't improve for 30 rounds.\n",
      "[50]\tvalid's auc: 0.931337\n",
      "[100]\tvalid's auc: 0.932971\n",
      "[150]\tvalid's auc: 0.933178\n",
      "[200]\tvalid's auc: 0.933321\n",
      "[250]\tvalid's auc: 0.933318\n",
      "Early stopping, best iteration is:\n",
      "[230]\tvalid's auc: 0.933383\n",
      "Training until validation scores don't improve for 30 rounds.\n",
      "[50]\tvalid's auc: 0.931369\n",
      "[100]\tvalid's auc: 0.93298\n",
      "[150]\tvalid's auc: 0.933324\n",
      "[200]\tvalid's auc: 0.9334\n",
      "Early stopping, best iteration is:\n",
      "[187]\tvalid's auc: 0.933434\n",
      "Training until validation scores don't improve for 30 rounds.\n",
      "[50]\tvalid's auc: 0.931228\n",
      "[100]\tvalid's auc: 0.93283\n",
      "[150]\tvalid's auc: 0.93314\n",
      "[200]\tvalid's auc: 0.933204\n",
      "Early stopping, best iteration is:\n",
      "[216]\tvalid's auc: 0.933232\n",
      "Training until validation scores don't improve for 30 rounds.\n",
      "[50]\tvalid's auc: 0.927183\n",
      "[100]\tvalid's auc: 0.930013\n",
      "[150]\tvalid's auc: 0.931118\n",
      "[200]\tvalid's auc: 0.931702\n",
      "[250]\tvalid's auc: 0.932082\n",
      "[300]\tvalid's auc: 0.932378\n",
      "[350]\tvalid's auc: 0.932583\n",
      "[400]\tvalid's auc: 0.932716\n",
      "[450]\tvalid's auc: 0.932846\n",
      "[500]\tvalid's auc: 0.932945\n",
      "Did not meet early stopping. Best iteration is:\n",
      "[500]\tvalid's auc: 0.932945\n",
      "Training until validation scores don't improve for 30 rounds.\n",
      "[50]\tvalid's auc: 0.927132\n",
      "[100]\tvalid's auc: 0.929899\n",
      "[150]\tvalid's auc: 0.930965\n",
      "[200]\tvalid's auc: 0.931639\n",
      "[250]\tvalid's auc: 0.932042\n",
      "[300]\tvalid's auc: 0.93231\n",
      "[350]\tvalid's auc: 0.932502\n",
      "[400]\tvalid's auc: 0.932643\n",
      "[450]\tvalid's auc: 0.932766\n",
      "[500]\tvalid's auc: 0.9329\n",
      "Did not meet early stopping. Best iteration is:\n",
      "[500]\tvalid's auc: 0.9329\n",
      "Training until validation scores don't improve for 30 rounds.\n",
      "[50]\tvalid's auc: 0.92709\n",
      "[100]\tvalid's auc: 0.929866\n",
      "[150]\tvalid's auc: 0.930977\n",
      "[200]\tvalid's auc: 0.931619\n",
      "[250]\tvalid's auc: 0.932061\n",
      "[300]\tvalid's auc: 0.932368\n",
      "[350]\tvalid's auc: 0.932587\n",
      "[400]\tvalid's auc: 0.932694\n",
      "[450]\tvalid's auc: 0.932823\n",
      "[500]\tvalid's auc: 0.932946\n",
      "Did not meet early stopping. Best iteration is:\n",
      "[499]\tvalid's auc: 0.932953\n",
      "Training until validation scores don't improve for 30 rounds.\n",
      "[50]\tvalid's auc: 0.928651\n",
      "[100]\tvalid's auc: 0.931127\n",
      "[150]\tvalid's auc: 0.932036\n",
      "[200]\tvalid's auc: 0.932594\n",
      "[250]\tvalid's auc: 0.932939\n",
      "[300]\tvalid's auc: 0.933167\n",
      "[350]\tvalid's auc: 0.933323\n",
      "[400]\tvalid's auc: 0.933482\n",
      "[450]\tvalid's auc: 0.933588\n",
      "[500]\tvalid's auc: 0.933659\n",
      "Did not meet early stopping. Best iteration is:\n",
      "[496]\tvalid's auc: 0.933661\n",
      "Training until validation scores don't improve for 30 rounds.\n",
      "[50]\tvalid's auc: 0.928854\n",
      "[100]\tvalid's auc: 0.931183\n",
      "[150]\tvalid's auc: 0.932063\n",
      "[200]\tvalid's auc: 0.932554\n",
      "[250]\tvalid's auc: 0.932899\n",
      "[300]\tvalid's auc: 0.933141\n",
      "[350]\tvalid's auc: 0.933315\n",
      "[400]\tvalid's auc: 0.933473\n",
      "[450]\tvalid's auc: 0.933603\n",
      "[500]\tvalid's auc: 0.933676\n",
      "Did not meet early stopping. Best iteration is:\n",
      "[499]\tvalid's auc: 0.933679\n",
      "Training until validation scores don't improve for 30 rounds.\n"
     ]
    },
    {
     "name": "stdout",
     "output_type": "stream",
     "text": [
      "[50]\tvalid's auc: 0.928698\n",
      "[100]\tvalid's auc: 0.931157\n",
      "[150]\tvalid's auc: 0.932102\n",
      "[200]\tvalid's auc: 0.932603\n",
      "[250]\tvalid's auc: 0.932865\n",
      "[300]\tvalid's auc: 0.933144\n",
      "[350]\tvalid's auc: 0.9333\n",
      "[400]\tvalid's auc: 0.933409\n",
      "[450]\tvalid's auc: 0.933499\n",
      "[500]\tvalid's auc: 0.933571\n",
      "Did not meet early stopping. Best iteration is:\n",
      "[500]\tvalid's auc: 0.933571\n",
      "Training until validation scores don't improve for 30 rounds.\n",
      "[50]\tvalid's auc: 0.931155\n",
      "[100]\tvalid's auc: 0.93293\n",
      "[150]\tvalid's auc: 0.933453\n",
      "[200]\tvalid's auc: 0.93361\n",
      "[250]\tvalid's auc: 0.933678\n",
      "Early stopping, best iteration is:\n",
      "[237]\tvalid's auc: 0.933716\n",
      "Training until validation scores don't improve for 30 rounds.\n",
      "[50]\tvalid's auc: 0.931139\n",
      "[100]\tvalid's auc: 0.93291\n",
      "[150]\tvalid's auc: 0.933403\n",
      "[200]\tvalid's auc: 0.933595\n",
      "[250]\tvalid's auc: 0.933684\n",
      "Early stopping, best iteration is:\n",
      "[263]\tvalid's auc: 0.933694\n",
      "Training until validation scores don't improve for 30 rounds.\n",
      "[50]\tvalid's auc: 0.931103\n",
      "[100]\tvalid's auc: 0.932935\n",
      "[150]\tvalid's auc: 0.93343\n",
      "[200]\tvalid's auc: 0.933653\n",
      "[250]\tvalid's auc: 0.933715\n",
      "[300]\tvalid's auc: 0.933788\n",
      "[350]\tvalid's auc: 0.933782\n",
      "Early stopping, best iteration is:\n",
      "[322]\tvalid's auc: 0.9338\n",
      "Training until validation scores don't improve for 30 rounds.\n",
      "[50]\tvalid's auc: 0.931456\n",
      "[100]\tvalid's auc: 0.933105\n",
      "[150]\tvalid's auc: 0.933522\n",
      "[200]\tvalid's auc: 0.933747\n",
      "[250]\tvalid's auc: 0.933867\n",
      "[300]\tvalid's auc: 0.933945\n",
      "Early stopping, best iteration is:\n",
      "[307]\tvalid's auc: 0.933953\n",
      "Training until validation scores don't improve for 30 rounds.\n",
      "[50]\tvalid's auc: 0.931474\n",
      "[100]\tvalid's auc: 0.933092\n",
      "[150]\tvalid's auc: 0.933539\n",
      "[200]\tvalid's auc: 0.933761\n",
      "[250]\tvalid's auc: 0.933891\n",
      "[300]\tvalid's auc: 0.933961\n",
      "[350]\tvalid's auc: 0.93398\n",
      "Early stopping, best iteration is:\n",
      "[330]\tvalid's auc: 0.933985\n",
      "Training until validation scores don't improve for 30 rounds.\n",
      "[50]\tvalid's auc: 0.931379\n",
      "[100]\tvalid's auc: 0.933\n",
      "[150]\tvalid's auc: 0.933539\n",
      "[200]\tvalid's auc: 0.933685\n",
      "[250]\tvalid's auc: 0.933738\n",
      "[300]\tvalid's auc: 0.933814\n",
      "Early stopping, best iteration is:\n",
      "[319]\tvalid's auc: 0.933825\n",
      "Training until validation scores don't improve for 30 rounds.\n",
      "[50]\tvalid's auc: 0.930809\n",
      "[100]\tvalid's auc: 0.932604\n",
      "[150]\tvalid's auc: 0.933177\n",
      "[200]\tvalid's auc: 0.933379\n",
      "[250]\tvalid's auc: 0.933538\n",
      "[300]\tvalid's auc: 0.933663\n",
      "Early stopping, best iteration is:\n",
      "[296]\tvalid's auc: 0.933672\n",
      "Training until validation scores don't improve for 30 rounds.\n",
      "[50]\tvalid's auc: 0.930859\n",
      "[100]\tvalid's auc: 0.932657\n",
      "[150]\tvalid's auc: 0.933234\n",
      "[200]\tvalid's auc: 0.93349\n",
      "[250]\tvalid's auc: 0.933661\n",
      "[300]\tvalid's auc: 0.933702\n",
      "Early stopping, best iteration is:\n",
      "[271]\tvalid's auc: 0.93373\n",
      "Training until validation scores don't improve for 30 rounds.\n",
      "[50]\tvalid's auc: 0.93089\n",
      "[100]\tvalid's auc: 0.932669\n",
      "[150]\tvalid's auc: 0.933238\n",
      "[200]\tvalid's auc: 0.933477\n",
      "[250]\tvalid's auc: 0.933546\n",
      "[300]\tvalid's auc: 0.933626\n",
      "[350]\tvalid's auc: 0.933672\n",
      "Early stopping, best iteration is:\n",
      "[327]\tvalid's auc: 0.933694\n",
      "Training until validation scores don't improve for 30 rounds.\n",
      "[50]\tvalid's auc: 0.930255\n",
      "[100]\tvalid's auc: 0.932278\n",
      "[150]\tvalid's auc: 0.933022\n",
      "[200]\tvalid's auc: 0.933413\n",
      "[250]\tvalid's auc: 0.933633\n",
      "[300]\tvalid's auc: 0.933788\n",
      "[350]\tvalid's auc: 0.933879\n",
      "[400]\tvalid's auc: 0.933988\n",
      "[450]\tvalid's auc: 0.934041\n",
      "[500]\tvalid's auc: 0.934113\n",
      "Did not meet early stopping. Best iteration is:\n",
      "[500]\tvalid's auc: 0.934113\n",
      "Training until validation scores don't improve for 30 rounds.\n",
      "[50]\tvalid's auc: 0.93026\n",
      "[100]\tvalid's auc: 0.932318\n",
      "[150]\tvalid's auc: 0.933004\n",
      "[200]\tvalid's auc: 0.933424\n",
      "[250]\tvalid's auc: 0.933615\n",
      "[300]\tvalid's auc: 0.933763\n",
      "[350]\tvalid's auc: 0.93387\n",
      "[400]\tvalid's auc: 0.933918\n",
      "[450]\tvalid's auc: 0.933943\n",
      "[500]\tvalid's auc: 0.933968\n",
      "Did not meet early stopping. Best iteration is:\n",
      "[494]\tvalid's auc: 0.933976\n",
      "Training until validation scores don't improve for 30 rounds.\n",
      "[50]\tvalid's auc: 0.930107\n",
      "[100]\tvalid's auc: 0.932168\n",
      "[150]\tvalid's auc: 0.932893\n",
      "[200]\tvalid's auc: 0.933266\n",
      "[250]\tvalid's auc: 0.933479\n",
      "[300]\tvalid's auc: 0.933649\n",
      "[350]\tvalid's auc: 0.933777\n",
      "[400]\tvalid's auc: 0.933861\n",
      "[450]\tvalid's auc: 0.933901\n",
      "[500]\tvalid's auc: 0.933938\n",
      "Did not meet early stopping. Best iteration is:\n",
      "[496]\tvalid's auc: 0.93394\n",
      "Training until validation scores don't improve for 30 rounds.\n",
      "[50]\tvalid's auc: 0.928404\n",
      "[100]\tvalid's auc: 0.930935\n",
      "[150]\tvalid's auc: 0.931811\n",
      "[200]\tvalid's auc: 0.932317\n",
      "[250]\tvalid's auc: 0.932666\n",
      "[300]\tvalid's auc: 0.932977\n",
      "[350]\tvalid's auc: 0.93313\n",
      "[400]\tvalid's auc: 0.933286\n",
      "[450]\tvalid's auc: 0.933392\n",
      "[500]\tvalid's auc: 0.933485\n",
      "Did not meet early stopping. Best iteration is:\n",
      "[500]\tvalid's auc: 0.933485\n",
      "Training until validation scores don't improve for 30 rounds.\n",
      "[50]\tvalid's auc: 0.928495\n",
      "[100]\tvalid's auc: 0.93107\n",
      "[150]\tvalid's auc: 0.931989\n",
      "[200]\tvalid's auc: 0.93248\n",
      "[250]\tvalid's auc: 0.932817\n",
      "[300]\tvalid's auc: 0.933012\n",
      "[350]\tvalid's auc: 0.933181\n",
      "[400]\tvalid's auc: 0.933329\n",
      "[450]\tvalid's auc: 0.933418\n",
      "[500]\tvalid's auc: 0.933511\n",
      "Did not meet early stopping. Best iteration is:\n",
      "[496]\tvalid's auc: 0.933513\n",
      "Training until validation scores don't improve for 30 rounds.\n",
      "[50]\tvalid's auc: 0.92832\n",
      "[100]\tvalid's auc: 0.930845\n",
      "[150]\tvalid's auc: 0.931816\n",
      "[200]\tvalid's auc: 0.932312\n",
      "[250]\tvalid's auc: 0.932671\n",
      "[300]\tvalid's auc: 0.932872\n",
      "[350]\tvalid's auc: 0.933053\n",
      "[400]\tvalid's auc: 0.933181\n",
      "[450]\tvalid's auc: 0.933286\n",
      "[500]\tvalid's auc: 0.933392\n",
      "Did not meet early stopping. Best iteration is:\n",
      "[499]\tvalid's auc: 0.933395\n",
      "Training until validation scores don't improve for 30 rounds.\n",
      "[50]\tvalid's auc: 0.931447\n",
      "[100]\tvalid's auc: 0.933021\n",
      "[150]\tvalid's auc: 0.933549\n",
      "[200]\tvalid's auc: 0.933739\n",
      "[250]\tvalid's auc: 0.933787\n",
      "Early stopping, best iteration is:\n",
      "[232]\tvalid's auc: 0.933815\n",
      "Training until validation scores don't improve for 30 rounds.\n",
      "[50]\tvalid's auc: 0.931443\n",
      "[100]\tvalid's auc: 0.933061\n",
      "[150]\tvalid's auc: 0.933542\n",
      "[200]\tvalid's auc: 0.933721\n",
      "[250]\tvalid's auc: 0.933764\n",
      "[300]\tvalid's auc: 0.933795\n",
      "Early stopping, best iteration is:\n",
      "[279]\tvalid's auc: 0.933802\n",
      "Training until validation scores don't improve for 30 rounds.\n",
      "[50]\tvalid's auc: 0.931527\n",
      "[100]\tvalid's auc: 0.933085\n",
      "[150]\tvalid's auc: 0.933533\n",
      "[200]\tvalid's auc: 0.93373\n",
      "[250]\tvalid's auc: 0.933824\n",
      "[300]\tvalid's auc: 0.933896\n",
      "Early stopping, best iteration is:\n",
      "[317]\tvalid's auc: 0.933899\n",
      "Training until validation scores don't improve for 30 rounds.\n",
      "[50]\tvalid's auc: 0.930449\n",
      "[100]\tvalid's auc: 0.932395\n",
      "[150]\tvalid's auc: 0.932881\n",
      "[200]\tvalid's auc: 0.933176\n",
      "[250]\tvalid's auc: 0.933226\n",
      "Early stopping, best iteration is:\n",
      "[228]\tvalid's auc: 0.933248\n",
      "Training until validation scores don't improve for 30 rounds.\n",
      "[50]\tvalid's auc: 0.930484\n",
      "[100]\tvalid's auc: 0.932395\n",
      "[150]\tvalid's auc: 0.93299\n",
      "[200]\tvalid's auc: 0.933166\n",
      "[250]\tvalid's auc: 0.933303\n",
      "[300]\tvalid's auc: 0.933332\n",
      "[350]\tvalid's auc: 0.933359\n",
      "Early stopping, best iteration is:\n",
      "[347]\tvalid's auc: 0.933371\n",
      "Training until validation scores don't improve for 30 rounds.\n",
      "[50]\tvalid's auc: 0.930359\n",
      "[100]\tvalid's auc: 0.932326\n",
      "[150]\tvalid's auc: 0.932885\n",
      "[200]\tvalid's auc: 0.933199\n",
      "[250]\tvalid's auc: 0.933297\n",
      "[300]\tvalid's auc: 0.933357\n",
      "[350]\tvalid's auc: 0.933365\n",
      "Early stopping, best iteration is:\n",
      "[343]\tvalid's auc: 0.933386\n",
      "Training until validation scores don't improve for 30 rounds.\n",
      "[50]\tvalid's auc: 0.930727\n",
      "[100]\tvalid's auc: 0.932594\n",
      "[150]\tvalid's auc: 0.933053\n",
      "[200]\tvalid's auc: 0.933196\n",
      "[250]\tvalid's auc: 0.933232\n",
      "Early stopping, best iteration is:\n",
      "[232]\tvalid's auc: 0.933256\n",
      "Training until validation scores don't improve for 30 rounds.\n",
      "[50]\tvalid's auc: 0.930818\n",
      "[100]\tvalid's auc: 0.932675\n",
      "[150]\tvalid's auc: 0.933187\n",
      "[200]\tvalid's auc: 0.933395\n",
      "[250]\tvalid's auc: 0.933446\n",
      "Early stopping, best iteration is:\n",
      "[230]\tvalid's auc: 0.93346\n",
      "Training until validation scores don't improve for 30 rounds.\n",
      "[50]\tvalid's auc: 0.930637\n",
      "[100]\tvalid's auc: 0.93253\n",
      "[150]\tvalid's auc: 0.93304\n",
      "[200]\tvalid's auc: 0.933246\n",
      "[250]\tvalid's auc: 0.933376\n",
      "[300]\tvalid's auc: 0.933456\n",
      "[350]\tvalid's auc: 0.933496\n",
      "Early stopping, best iteration is:\n",
      "[359]\tvalid's auc: 0.933518\n",
      "Training until validation scores don't improve for 30 rounds.\n",
      "[50]\tvalid's auc: 0.930479\n",
      "[100]\tvalid's auc: 0.932541\n"
     ]
    },
    {
     "name": "stdout",
     "output_type": "stream",
     "text": [
      "[150]\tvalid's auc: 0.933167\n",
      "[200]\tvalid's auc: 0.933432\n",
      "[250]\tvalid's auc: 0.933583\n",
      "[300]\tvalid's auc: 0.933652\n",
      "[350]\tvalid's auc: 0.933718\n",
      "Early stopping, best iteration is:\n",
      "[350]\tvalid's auc: 0.933718\n",
      "Training until validation scores don't improve for 30 rounds.\n",
      "[50]\tvalid's auc: 0.930418\n",
      "[100]\tvalid's auc: 0.932427\n",
      "[150]\tvalid's auc: 0.933076\n",
      "[200]\tvalid's auc: 0.933362\n",
      "[250]\tvalid's auc: 0.933498\n",
      "[300]\tvalid's auc: 0.933585\n",
      "[350]\tvalid's auc: 0.933657\n",
      "[400]\tvalid's auc: 0.93367\n",
      "Early stopping, best iteration is:\n",
      "[381]\tvalid's auc: 0.933688\n",
      "Training until validation scores don't improve for 30 rounds.\n",
      "[50]\tvalid's auc: 0.930352\n",
      "[100]\tvalid's auc: 0.932435\n",
      "[150]\tvalid's auc: 0.933041\n",
      "[200]\tvalid's auc: 0.933216\n",
      "[250]\tvalid's auc: 0.933335\n",
      "[300]\tvalid's auc: 0.933435\n",
      "[350]\tvalid's auc: 0.933487\n",
      "Early stopping, best iteration is:\n",
      "[362]\tvalid's auc: 0.933502\n",
      "Training until validation scores don't improve for 30 rounds.\n",
      "[50]\tvalid's auc: 0.931675\n",
      "[100]\tvalid's auc: 0.933083\n",
      "[150]\tvalid's auc: 0.933446\n",
      "[200]\tvalid's auc: 0.933658\n",
      "Early stopping, best iteration is:\n",
      "[214]\tvalid's auc: 0.933667\n",
      "Training until validation scores don't improve for 30 rounds.\n",
      "[50]\tvalid's auc: 0.931702\n",
      "[100]\tvalid's auc: 0.933163\n",
      "[150]\tvalid's auc: 0.933471\n",
      "[200]\tvalid's auc: 0.933667\n",
      "Early stopping, best iteration is:\n",
      "[206]\tvalid's auc: 0.933684\n",
      "Training until validation scores don't improve for 30 rounds.\n",
      "[50]\tvalid's auc: 0.931659\n",
      "[100]\tvalid's auc: 0.933152\n",
      "[150]\tvalid's auc: 0.93349\n",
      "[200]\tvalid's auc: 0.933572\n",
      "[250]\tvalid's auc: 0.933591\n",
      "[300]\tvalid's auc: 0.933599\n",
      "Early stopping, best iteration is:\n",
      "[286]\tvalid's auc: 0.933624\n",
      "Training until validation scores don't improve for 30 rounds.\n",
      "[50]\tvalid's auc: 0.929586\n",
      "[100]\tvalid's auc: 0.931962\n",
      "[150]\tvalid's auc: 0.932726\n",
      "[200]\tvalid's auc: 0.933124\n",
      "[250]\tvalid's auc: 0.933362\n",
      "[300]\tvalid's auc: 0.933529\n",
      "[350]\tvalid's auc: 0.933671\n",
      "[400]\tvalid's auc: 0.933762\n",
      "[450]\tvalid's auc: 0.933853\n",
      "[500]\tvalid's auc: 0.933879\n",
      "Did not meet early stopping. Best iteration is:\n",
      "[493]\tvalid's auc: 0.93388\n",
      "Training until validation scores don't improve for 30 rounds.\n",
      "[50]\tvalid's auc: 0.929631\n",
      "[100]\tvalid's auc: 0.931866\n",
      "[150]\tvalid's auc: 0.932656\n",
      "[200]\tvalid's auc: 0.933101\n",
      "[250]\tvalid's auc: 0.933315\n",
      "[300]\tvalid's auc: 0.93351\n",
      "[350]\tvalid's auc: 0.93364\n",
      "[400]\tvalid's auc: 0.933715\n",
      "[450]\tvalid's auc: 0.933775\n",
      "[500]\tvalid's auc: 0.933827\n",
      "Did not meet early stopping. Best iteration is:\n",
      "[495]\tvalid's auc: 0.933833\n",
      "Training until validation scores don't improve for 30 rounds.\n",
      "[50]\tvalid's auc: 0.929513\n",
      "[100]\tvalid's auc: 0.931836\n",
      "[150]\tvalid's auc: 0.932664\n",
      "[200]\tvalid's auc: 0.933088\n",
      "[250]\tvalid's auc: 0.933362\n",
      "[300]\tvalid's auc: 0.933553\n",
      "[350]\tvalid's auc: 0.9337\n",
      "[400]\tvalid's auc: 0.933747\n",
      "[450]\tvalid's auc: 0.933803\n",
      "[500]\tvalid's auc: 0.933881\n",
      "Did not meet early stopping. Best iteration is:\n",
      "[500]\tvalid's auc: 0.933881\n",
      "Training until validation scores don't improve for 30 rounds.\n",
      "[50]\tvalid's auc: 0.931948\n",
      "[100]\tvalid's auc: 0.93319\n",
      "[150]\tvalid's auc: 0.933544\n",
      "[200]\tvalid's auc: 0.933604\n",
      "Early stopping, best iteration is:\n",
      "[196]\tvalid's auc: 0.933634\n",
      "Training until validation scores don't improve for 30 rounds.\n",
      "[50]\tvalid's auc: 0.931911\n",
      "[100]\tvalid's auc: 0.933224\n",
      "[150]\tvalid's auc: 0.933538\n",
      "[200]\tvalid's auc: 0.933662\n",
      "Early stopping, best iteration is:\n",
      "[204]\tvalid's auc: 0.933682\n",
      "Training until validation scores don't improve for 30 rounds.\n",
      "[50]\tvalid's auc: 0.931978\n",
      "[100]\tvalid's auc: 0.933305\n",
      "[150]\tvalid's auc: 0.933545\n",
      "[200]\tvalid's auc: 0.933647\n",
      "Early stopping, best iteration is:\n",
      "[205]\tvalid's auc: 0.933668\n"
     ]
    },
    {
     "name": "stderr",
     "output_type": "stream",
     "text": [
      "[Parallel(n_jobs=1)]: Done  60 out of  60 | elapsed: 90.7min finished\n"
     ]
    },
    {
     "name": "stdout",
     "output_type": "stream",
     "text": [
      "Training until validation scores don't improve for 30 rounds.\n",
      "[50]\tvalid's auc: 0.931904\n",
      "[100]\tvalid's auc: 0.933539\n",
      "[150]\tvalid's auc: 0.93406\n",
      "[200]\tvalid's auc: 0.934344\n",
      "[250]\tvalid's auc: 0.934493\n",
      "[300]\tvalid's auc: 0.934613\n",
      "[350]\tvalid's auc: 0.934682\n",
      "Early stopping, best iteration is:\n",
      "[351]\tvalid's auc: 0.934683\n"
     ]
    },
    {
     "data": {
      "text/plain": [
       "RandomizedSearchCV(cv=3, error_score='raise',\n",
       "          estimator=LGBMClassifier(boosting_type='gbdt', class_weight=None, colsample_bytree=1.0,\n",
       "        learning_rate=0.1, max_depth=-1, metric='None',\n",
       "        min_child_samples=20, min_child_weight=0.001, min_split_gain=0.0,\n",
       "        n_estimators=500, n_jobs=2, num_leaves=31, objective=None,\n",
       "        random_state=314, reg_alpha=0.0, reg_lambda=0.0, silent=True,\n",
       "        subsample=1.0, subsample_for_bin=200000, subsample_freq=1),\n",
       "          fit_params={'eval_names': ['valid'], 'sample_weight': 0          0.585735\n",
       "1          0.777827\n",
       "2          0.548191\n",
       "3          0.642576\n",
       "4          0.506135\n",
       "5          0.617371\n",
       "6          0.549067\n",
       "7          0.577313\n",
       "8          0.559611\n",
       "9          0.840257\n",
       "10         0.946498\n",
       "11         0.708390\n",
       "12    ...    0.186042  7.768792e+05\n",
       "\n",
       "[303135 rows x 10 columns], array([0, 0, ..., 1, 1]))], 'verbose': 50},\n",
       "          iid=True, n_iter=20, n_jobs=1,\n",
       "          param_distributions={'num_leaves': <scipy.stats._distn_infrastructure.rv_frozen object at 0x7fe6d22c63c8>, 'colsample_bytree': <scipy.stats._distn_infrastructure.rv_frozen object at 0x7fe6d22c6518>, 'reg_alpha': [0, 1e-05, 0.001, 0.1, 1, 5, 10], 'subsample': <scipy.stats._distn_infrastructure.rv_frozen object at 0x7fe6d22c6d68>, 'reg_lambda': [0, 1e-05, 0.001, 0.1, 1, 5, 10], 'min_child_weight': <scipy.stats._distn_infrastructure.rv_frozen object at 0x7fe6d22c64e0>},\n",
       "          pre_dispatch='2*n_jobs', random_state=314, refit=True,\n",
       "          return_train_score='warn', scoring='roc_auc', verbose=True)"
      ]
     },
     "execution_count": 13,
     "metadata": {},
     "output_type": "execute_result"
    }
   ],
   "source": [
    "#gs.fit(X_tra, y_tra)"
   ]
  },
  {
   "cell_type": "code",
   "execution_count": 14,
   "metadata": {},
   "outputs": [],
   "source": [
    "#import pickle"
   ]
  },
  {
   "cell_type": "code",
   "execution_count": 16,
   "metadata": {},
   "outputs": [],
   "source": [
    "#pickle.dump(gs, file=open('gs_lgb_v00.pkl', mode='wb'))"
   ]
  },
  {
   "cell_type": "code",
   "execution_count": 20,
   "metadata": {},
   "outputs": [
    {
     "name": "stderr",
     "output_type": "stream",
     "text": [
      "/home/mlisovyi/anaconda2/envs/Titanic/lib/python3.5/site-packages/sklearn/utils/deprecation.py:122: FutureWarning: You are accessing a training score ('mean_train_score'), which will not be available by default any more in 0.21. If you need training scores, please set return_train_score=True\n",
      "  warnings.warn(*warn_args, **warn_kwargs)\n"
     ]
    },
    {
     "data": {
      "text/plain": [
       "array([0.94372454, 0.94495454, 0.94230111, 0.94056462, 0.94308357,\n",
       "       0.94323192, 0.94063235, 0.94188877, 0.94356902, 0.94409139,\n",
       "       0.9428202 , 0.94347603, 0.94189017, 0.94367274, 0.94256694,\n",
       "       0.94272663, 0.94375597, 0.94352246, 0.94297206, 0.94367428])"
      ]
     },
     "execution_count": 20,
     "metadata": {},
     "output_type": "execute_result"
    }
   ],
   "source": [
    "#gs.cv_results_['mean_train_score']"
   ]
  },
  {
   "cell_type": "code",
   "execution_count": 21,
   "metadata": {},
   "outputs": [
    {
     "data": {
      "text/plain": [
       "array([0.94055143, 0.94085161, 0.93956597, 0.93934045, 0.94044966,\n",
       "       0.93997638, 0.93931113, 0.94003497, 0.94035093, 0.94061216,\n",
       "       0.94030212, 0.9405801 , 0.93992503, 0.94043586, 0.93981934,\n",
       "       0.94000977, 0.94033028, 0.94033421, 0.94038146, 0.94029436])"
      ]
     },
     "execution_count": 21,
     "metadata": {},
     "output_type": "execute_result"
    }
   ],
   "source": [
    "#gs.cv_results_['mean_test_score']"
   ]
  },
  {
   "cell_type": "code",
   "execution_count": 23,
   "metadata": {},
   "outputs": [
    {
     "data": {
      "text/plain": [
       "0.9408516129058941"
      ]
     },
     "execution_count": 23,
     "metadata": {},
     "output_type": "execute_result"
    }
   ],
   "source": [
    "#gs.best_score_"
   ]
  },
  {
   "cell_type": "code",
   "execution_count": 24,
   "metadata": {},
   "outputs": [
    {
     "data": {
      "text/plain": [
       "{'colsample_bytree': 0.9672004250163085,\n",
       " 'min_child_weight': 443,\n",
       " 'num_leaves': 92,\n",
       " 'reg_alpha': 0,\n",
       " 'reg_lambda': 0.1,\n",
       " 'subsample': 0.9647053597566241}"
      ]
     },
     "execution_count": 24,
     "metadata": {},
     "output_type": "execute_result"
    }
   ],
   "source": [
    "#gs.best_params_"
   ]
  },
  {
   "cell_type": "markdown",
   "metadata": {},
   "source": [
    "## Model fitting\n",
    "To same computational time, let's directly set model parameters to the optimal values determined and printed above. We will do some rounding and also set the number of boosting rounds to 250, which is roughly the point, when ROC AUC stops improving significantly based on the CV fits above."
   ]
  },
  {
   "cell_type": "code",
   "execution_count": 13,
   "metadata": {},
   "outputs": [
    {
     "data": {
      "text/plain": [
       "LGBMClassifier(boosting_type='gbdt', class_weight=None,\n",
       "        colsample_bytree=0.967, learning_rate=0.1, max_depth=-1,\n",
       "        metric='None', min_child_samples=20, min_child_weight=450,\n",
       "        min_split_gain=0.0, n_estimators=250, n_jobs=2, num_leaves=90,\n",
       "        objective=None, random_state=314, reg_alpha=0, reg_lambda=0.1,\n",
       "        silent=True, subsample=0.965, subsample_for_bin=200000,\n",
       "        subsample_freq=1)"
      ]
     },
     "execution_count": 13,
     "metadata": {},
     "output_type": "execute_result"
    }
   ],
   "source": [
    "clf.set_params(**{'colsample_bytree': 0.967,\n",
    " 'min_child_weight': 450,\n",
    " 'num_leaves': 90,\n",
    " 'reg_alpha': 0,\n",
    " 'reg_lambda': 0.1,\n",
    " 'subsample': 0.965,\n",
    " 'n_estimators': 250})"
   ]
  },
  {
   "cell_type": "code",
   "execution_count": 14,
   "metadata": {},
   "outputs": [
    {
     "data": {
      "text/plain": [
       "LGBMClassifier(boosting_type='gbdt', class_weight=None,\n",
       "        colsample_bytree=0.967, learning_rate=0.1, max_depth=-1,\n",
       "        metric='None', min_child_samples=20, min_child_weight=450,\n",
       "        min_split_gain=0.0, n_estimators=250, n_jobs=2, num_leaves=90,\n",
       "        objective=None, random_state=314, reg_alpha=0, reg_lambda=0.1,\n",
       "        silent=True, subsample=0.965, subsample_for_bin=200000,\n",
       "        subsample_freq=1)"
      ]
     },
     "execution_count": 14,
     "metadata": {},
     "output_type": "execute_result"
    }
   ],
   "source": [
    "clf.fit(X_tra, y_tra, sample_weight=w_tra)"
   ]
  },
  {
   "cell_type": "markdown",
   "metadata": {},
   "source": [
    "## Feature importance"
   ]
  },
  {
   "cell_type": "code",
   "execution_count": 15,
   "metadata": {},
   "outputs": [
    {
     "data": {
      "text/plain": [
       "<matplotlib.axes._subplots.AxesSubplot at 0x7f2be35aa358>"
      ]
     },
     "execution_count": 15,
     "metadata": {},
     "output_type": "execute_result"
    },
    {
     "data": {
      "image/png": "[encoded data removed]",
      "text/plain": [
       "<Figure size 432x288 with 1 Axes>"
      ]
     },
     "metadata": {},
     "output_type": "display_data"
    }
   ],
   "source": [
    "feat_imp = pd.Series(clf.feature_importances_, index=X_tra.columns)\n",
    "feat_imp.nlargest(10).plot(kind='barh')"
   ]
  },
  {
   "cell_type": "markdown",
   "metadata": {},
   "source": [
    "## Let's do a test using the same model setup for the top-3 features"
   ]
  },
  {
   "cell_type": "code",
   "execution_count": 18,
   "metadata": {},
   "outputs": [
    {
     "name": "stdout",
     "output_type": "stream",
     "text": [
      "Top3 cols: ['fjet_m' 'fjet_D2' 'fjet_Qw']\n"
     ]
    },
    {
     "data": {
      "text/plain": [
       "LGBMClassifier(boosting_type='gbdt', class_weight=None,\n",
       "        colsample_bytree=0.967, learning_rate=0.1, max_depth=-1,\n",
       "        metric='None', min_child_samples=20, min_child_weight=450,\n",
       "        min_split_gain=0.0, n_estimators=250, n_jobs=2, num_leaves=90,\n",
       "        objective=None, random_state=314, reg_alpha=0, reg_lambda=0.1,\n",
       "        silent=True, subsample=0.965, subsample_for_bin=200000,\n",
       "        subsample_freq=1)"
      ]
     },
     "execution_count": 18,
     "metadata": {},
     "output_type": "execute_result"
    }
   ],
   "source": [
    "col_top3=feat_imp.nlargest(3).index.values\n",
    "print('Top3 cols: {}'.format(col_top3))\n",
    "clf_top3=lgb.LGBMClassifier(**clf.get_params())\n",
    "clf_top3.fit(X_tra[col_top3], y_tra, sample_weight=w_tra)"
   ]
  },
  {
   "cell_type": "code",
   "execution_count": 25,
   "metadata": {},
   "outputs": [
    {
     "name": "stdout",
     "output_type": "stream",
     "text": [
      "Top5 cols: ['fjet_m' 'fjet_D2' 'fjet_Qw' 'fjet_pt' 'fjet_Tau32_wta']\n"
     ]
    },
    {
     "data": {
      "text/plain": [
       "LGBMClassifier(boosting_type='gbdt', class_weight=None,\n",
       "        colsample_bytree=0.967, learning_rate=0.1, max_depth=-1,\n",
       "        metric='None', min_child_samples=20, min_child_weight=450,\n",
       "        min_split_gain=0.0, n_estimators=250, n_jobs=2, num_leaves=90,\n",
       "        objective=None, random_state=314, reg_alpha=0, reg_lambda=0.1,\n",
       "        silent=True, subsample=0.965, subsample_for_bin=200000,\n",
       "        subsample_freq=1)"
      ]
     },
     "execution_count": 25,
     "metadata": {},
     "output_type": "execute_result"
    }
   ],
   "source": [
    "col_top5=feat_imp.nlargest(5).index.values\n",
    "print('Top5 cols: {}'.format(col_top5))\n",
    "clf_top5=lgb.LGBMClassifier(**clf.get_params())\n",
    "clf_top5.fit(X_tra[col_top5], y_tra, sample_weight=w_tra)"
   ]
  },
  {
   "cell_type": "code",
   "execution_count": 47,
   "metadata": {},
   "outputs": [
    {
     "name": "stdout",
     "output_type": "stream",
     "text": [
      "Custom3 cols: ['fjet_Tau32_wta', 'fjet_m', 'fjet_Split23']\n"
     ]
    },
    {
     "data": {
      "text/plain": [
       "LGBMClassifier(boosting_type='gbdt', class_weight=None,\n",
       "        colsample_bytree=0.967, learning_rate=0.1, max_depth=-1,\n",
       "        metric='None', min_child_samples=20, min_child_weight=450,\n",
       "        min_split_gain=0.0, n_estimators=250, n_jobs=2, num_leaves=90,\n",
       "        objective=None, random_state=314, reg_alpha=0, reg_lambda=0.1,\n",
       "        silent=True, subsample=0.965, subsample_for_bin=200000,\n",
       "        subsample_freq=1)"
      ]
     },
     "execution_count": 47,
     "metadata": {},
     "output_type": "execute_result"
    }
   ],
   "source": [
    "col_cus3=['fjet_Tau32_wta', 'fjet_m', 'fjet_Split23']\n",
    "print('Custom3 cols: {}'.format(col_cus3))\n",
    "clf_cus3=lgb.LGBMClassifier(**clf.get_params())\n",
    "clf_cus3.fit(X_tra[col_cus3], y_tra, sample_weight=w_tra)"
   ]
  },
  {
   "cell_type": "markdown",
   "metadata": {},
   "source": [
    "## Model evaluation"
   ]
  },
  {
   "cell_type": "code",
   "execution_count": 20,
   "metadata": {},
   "outputs": [],
   "source": [
    "from sklearn.metrics import roc_auc_score"
   ]
  },
  {
   "cell_type": "code",
   "execution_count": 21,
   "metadata": {},
   "outputs": [],
   "source": [
    "roc_auc_val = roc_auc_score(y_val, clf.predict_proba(X_val)[:,1], sample_weight=w_val)"
   ]
  },
  {
   "cell_type": "code",
   "execution_count": 22,
   "metadata": {},
   "outputs": [
    {
     "data": {
      "text/plain": [
       "0.9343709040779385"
      ]
     },
     "execution_count": 22,
     "metadata": {},
     "output_type": "execute_result"
    }
   ],
   "source": [
    "roc_auc_val"
   ]
  },
  {
   "cell_type": "code",
   "execution_count": 26,
   "metadata": {},
   "outputs": [
    {
     "name": "stdout",
     "output_type": "stream",
     "text": [
      "ROC AUC: Top3 0.9144029966416435, Top5 0.9269250574679545\n"
     ]
    }
   ],
   "source": [
    "roc_auc_val_top3 = roc_auc_score(y_val, clf_top3.predict_proba(X_val[col_top3])[:,1], sample_weight=w_val)\n",
    "roc_auc_val_top5 = roc_auc_score(y_val, clf_top5.predict_proba(X_val[col_top5])[:,1], sample_weight=w_val)\n",
    "print('ROC AUC: Top3 {}, Top5 {}'.format(roc_auc_val_top3, roc_auc_val_top5))"
   ]
  },
  {
   "cell_type": "markdown",
   "metadata": {},
   "source": [
    "## Plot the performance curve integrated in pT\n",
    "It is kind of like the proper ROC curve, but axes are aswaped and inverse false positive rate, `FPR`, is ploted to show background rejection"
   ]
  },
  {
   "cell_type": "code",
   "execution_count": 48,
   "metadata": {},
   "outputs": [],
   "source": [
    "from sklearn.metrics import roc_curve\n",
    "def plotTopWROC(tpr_, fpr_):\n",
    "    plotTopWROCs([(tpr_, fpr_, 'LightGBM')])\n",
    "    \n",
    "def plotTopWROCs(l_rocs, \n",
    "                 ylim=(1e0,1e4), xlim=(0.3, 1.0), \n",
    "                 title='ROC val sample',\n",
    "                 fout_name=None):\n",
    "    eps = 1e-8\n",
    "    colors = ['darkorange', 'darkblue', 'darkred', 'green', 'magenta']\n",
    "    style  = ['solid', 'dashed', 'dotted', 'dotted', 'dotted']\n",
    "    \n",
    "    fig = plt.figure(figsize=(6,6))\n",
    "    lw = 2\n",
    "    for i,roc in enumerate(l_rocs):\n",
    "        tpr_, fpr_, lbl_ = roc\n",
    "        plt.plot(tpr_+eps, \n",
    "             1./(fpr_+eps), \n",
    "             color=colors[i],\n",
    "             ls=style[i],\n",
    "             lw=lw, \n",
    "             label=lbl_ )\n",
    "    plt.xlim(xlim)\n",
    "    plt.ylim(ylim)\n",
    "    plt.yscale('log')\n",
    "    plt.ylabel('Background rejection')\n",
    "    plt.xlabel('Signal efficiency')\n",
    "    plt.title(title)\n",
    "    plt.legend(loc=\"upper right\")\n",
    "    plt.show()\n",
    "    if fout_name:\n",
    "        fig.savefig(fout_name)"
   ]
  },
  {
   "cell_type": "code",
   "execution_count": 21,
   "metadata": {},
   "outputs": [],
   "source": [
    "fpr, tpr, _ = roc_curve(y_val, clf.predict_proba(X_val)[:,1], sample_weight=w_val)"
   ]
  },
  {
   "cell_type": "code",
   "execution_count": 62,
   "metadata": {},
   "outputs": [
    {
     "data": {
      "image/png": "[encoded data removed]",
      "text/plain": [
       "<Figure size 432x432 with 1 Axes>"
      ]
     },
     "metadata": {},
     "output_type": "display_data"
    }
   ],
   "source": [
    "plotTopWROC(tpr, fpr)"
   ]
  },
  {
   "cell_type": "markdown",
   "metadata": {},
   "source": [
    "## Read in and trim testing signal data"
   ]
  },
  {
   "cell_type": "code",
   "execution_count": 27,
   "metadata": {},
   "outputs": [],
   "source": [
    "top_test_sig = pd.HDFStore('data/PreparedSamples__testing_Zprime.root_forTopWtag_NvarM_none.h5')"
   ]
  },
  {
   "cell_type": "code",
   "execution_count": 28,
   "metadata": {},
   "outputs": [],
   "source": [
    "X_test_sg, y_test_sg, w_test_sg = getEvents(top_test_sig['df'], \n",
    "                                   part='top', \n",
    "                                   col_list=top_var_list, \n",
    "                                   weight_name='fjet_testing_weight_pt', \n",
    "                                   forced_y=1, \n",
    "                                   skip_weight_suff=True)"
   ]
  },
  {
   "cell_type": "code",
   "execution_count": 29,
   "metadata": {},
   "outputs": [],
   "source": [
    "truth_pt_test_sg = selectEvents(top_test_sig['df'], part='top', col='fjet_truthJet_pt')\n",
    "top_BDT_sg = selectEvents(top_test_sig['df'], part='top', col='BDT_TOP3qtag')"
   ]
  },
  {
   "cell_type": "code",
   "execution_count": 30,
   "metadata": {},
   "outputs": [],
   "source": [
    "top_test_sig.close()"
   ]
  },
  {
   "cell_type": "markdown",
   "metadata": {},
   "source": [
    "## Read in and trim testing background data"
   ]
  },
  {
   "cell_type": "code",
   "execution_count": 31,
   "metadata": {},
   "outputs": [],
   "source": [
    "top_test_bg = pd.HDFStore('data/PreparedSamples__testing_full_jzxw.root_forTopWtag_NvarM_none.h5')"
   ]
  },
  {
   "cell_type": "markdown",
   "metadata": {},
   "source": [
    "`top_test_bg` is **HUGE** (~3.5 GB). But it is loaded into memory only when you manipulate it. Memory seems to be cleared after you stop using the data"
   ]
  },
  {
   "cell_type": "code",
   "execution_count": 32,
   "metadata": {},
   "outputs": [],
   "source": [
    "X_test_bg, y_test_bg, w_test_bg = getEvents(top_test_bg['df'], \n",
    "                                   part='top', \n",
    "                                   col_list=top_var_list, \n",
    "                                   weight_name='fjet_testing_weight_pt', \n",
    "                                   forced_y=0, \n",
    "                                   skip_weight_suff=True)"
   ]
  },
  {
   "cell_type": "code",
   "execution_count": 33,
   "metadata": {},
   "outputs": [],
   "source": [
    "truth_pt_test_bg = selectEvents(top_test_bg['df'], part='top', col='fjet_truthJet_pt')\n",
    "top_BDT_bg = selectEvents(top_test_bg['df'], part='top', col='BDT_TOP3qtag')"
   ]
  },
  {
   "cell_type": "code",
   "execution_count": 34,
   "metadata": {},
   "outputs": [],
   "source": [
    "top_test_bg.close()"
   ]
  },
  {
   "cell_type": "markdown",
   "metadata": {},
   "source": [
    "## Let's do comparison of performance"
   ]
  },
  {
   "cell_type": "code",
   "execution_count": 35,
   "metadata": {},
   "outputs": [],
   "source": [
    "n_s=X_test_sg.shape[0]\n",
    "n_b=n_s\n",
    "X_test = pd.concat([X_test_sg.iloc[:n_s], X_test_bg.iloc[:n_b]])\n",
    "y_test = pd.concat([y_test_sg.iloc[:n_s], y_test_bg.iloc[:n_b]])\n",
    "w_test = pd.concat([w_test_sg.iloc[:n_s], w_test_bg.iloc[:n_b]])\n",
    "truth_pt_test = pd.concat([truth_pt_test_sg.iloc[:n_s], truth_pt_test_bg.iloc[:n_b]])\n",
    "top_BDT = pd.concat([top_BDT_sg.iloc[:n_s], top_BDT_bg.iloc[:n_b]])"
   ]
  },
  {
   "cell_type": "markdown",
   "metadata": {},
   "source": [
    "The function to compare TMVA and LGBM performance"
   ]
  },
  {
   "cell_type": "code",
   "execution_count": 49,
   "metadata": {},
   "outputs": [],
   "source": [
    "def plotROCInPtBin(ptmin, ptmax):\n",
    "    pt_range = (truth_pt_test < ptmax) & (truth_pt_test > ptmin)\n",
    "    fpr_, tpr_, _ = roc_curve(y_test[pt_range], \n",
    "                              clf.predict_proba(X_test[pt_range])[:,1], \n",
    "                              sample_weight=w_test[pt_range])\n",
    "    fpr3_, tpr3_, _ = roc_curve(y_test[pt_range], \n",
    "                              clf_top3.predict_proba(X_test[col_top3][pt_range])[:,1], \n",
    "                              sample_weight=w_test[pt_range])\n",
    "    fpr5_, tpr5_, _ = roc_curve(y_test[pt_range], \n",
    "                              clf_top5.predict_proba(X_test[col_top5][pt_range])[:,1], \n",
    "                              sample_weight=w_test[pt_range])\n",
    "    fpr3t_, tpr3t_, _ = roc_curve(y_test[pt_range], \n",
    "                              clf_cus3.predict_proba(X_test[col_cus3][pt_range])[:,1], \n",
    "                              sample_weight=w_test[pt_range])\n",
    "    fbdt_, tbdt_, _ = roc_curve(y_test[pt_range], \n",
    "                                top_BDT[pt_range], \n",
    "                                sample_weight=w_test[pt_range])\n",
    "    \n",
    "    iptmin=int(ptmin/1e3)\n",
    "    iptmax=int(ptmax/1e3)\n",
    "    plotTopWROCs([(tbdt_, fbdt_, 'TMVA (paper)'), \n",
    "                  (tpr_,  fpr_,  'LightGBM'),\n",
    "                  (tpr3_,  fpr3_,  'LightGBM Top3 vars'),\n",
    "                  (tpr5_,  fpr5_,  'LightGBM Top5 vars'),\n",
    "                  (tpr3t_,  fpr3t_,  'LightGBM Custom3 vars')],\n",
    "                 ylim=(1e0,1e3),\n",
    "                 title='{} < pT < {} GeV'.format(iptmin, iptmax), \n",
    "                 fout_name='roc_{}_{}_tmp.png'.format(iptmin, iptmax))"
   ]
  },
  {
   "cell_type": "code",
   "execution_count": 50,
   "metadata": {},
   "outputs": [
    {
     "data": {
      "image/png": "[encoded data removed]",
      "text/plain": [
       "<Figure size 432x432 with 1 Axes>"
      ]
     },
     "metadata": {},
     "output_type": "display_data"
    }
   ],
   "source": [
    "plotROCInPtBin(500e3, 1000e3)"
   ]
  },
  {
   "cell_type": "code",
   "execution_count": 51,
   "metadata": {},
   "outputs": [
    {
     "data": {
      "image/png": "[encoded data removed]",
      "text/plain": [
       "<Figure size 432x432 with 1 Axes>"
      ]
     },
     "metadata": {},
     "output_type": "display_data"
    }
   ],
   "source": [
    "plotROCInPtBin(1500e3, 2000e3)"
   ]
  },
  {
   "cell_type": "code",
   "execution_count": null,
   "metadata": {},
   "outputs": [],
   "source": []
  }
 ],
 "metadata": {
  "kernelspec": {
   "display_name": "Python 3",
   "language": "python",
   "name": "python3"
  },
  "language_info": {
   "codemirror_mode": {
    "name": "ipython",
    "version": 3
   },
   "file_extension": ".py",
   "mimetype": "text/x-python",
   "name": "python",
   "nbconvert_exporter": "python",
   "pygments_lexer": "ipython3",
   "version": "3.6.5"
  }
 },
 "nbformat": 4,
 "nbformat_minor": 2
}
